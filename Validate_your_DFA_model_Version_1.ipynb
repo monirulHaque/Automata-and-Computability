{
  "nbformat": 4,
  "nbformat_minor": 0,
  "metadata": {
    "colab": {
      "provenance": [],
      "authorship_tag": "ABX9TyObBvrFQ21/TukigkPnPxlI",
      "include_colab_link": true
    },
    "kernelspec": {
      "name": "python3",
      "display_name": "Python 3"
    },
    "language_info": {
      "name": "python"
    }
  },
  "cells": [
    {
      "cell_type": "markdown",
      "metadata": {
        "id": "view-in-github",
        "colab_type": "text"
      },
      "source": [
        "<a href=\"https://colab.research.google.com/github/turtle-shifa/Automata-and-Computability/blob/main/Validate_your_DFA_model_Version_1.ipynb\" target=\"_parent\"><img src=\"https://colab.research.google.com/assets/colab-badge.svg\" alt=\"Open In Colab\"/></a>"
      ]
    },
    {
      "cell_type": "code",
      "source": [
        "import networkx as nx\n",
        "import matplotlib.pyplot as plt"
      ],
      "metadata": {
        "id": "tfkjNCUIrzl1"
      },
      "execution_count": null,
      "outputs": []
    },
    {
      "cell_type": "code",
      "source": [
        "def visualize(dfa_dict):\n",
        "  G = nx.DiGraph()\n",
        "  nodes = []\n",
        "  for node in dfa_dict.keys():\n",
        "    nodes.append(node)\n",
        "\n",
        "  accepting_nodes = accept_state\n",
        "  starting_node = srt_state\n",
        "\n",
        "  edges = []\n",
        "  garbage = []\n",
        "\n",
        "  for state,info in dfa_dict.items():\n",
        "    for i in info:\n",
        "      initial = [state,i[0]]\n",
        "      initial.sort()\n",
        "\n",
        "      if initial not in garbage:\n",
        "        garbage.append(initial)\n",
        "        edges.append((state,i[0],i[1]))\n",
        "\n",
        "      else:\n",
        "        for item in edges:\n",
        "          if item[0] == initial[0] and item[1] == initial[1]:\n",
        "            prev_trans = \"(\" + item[2] + \"->)\"\n",
        "            break\n",
        "\n",
        "        new_trans = prev_trans + \"(\" + \"<-\" + i[1] + \")\"\n",
        "        edges.append((state,i[0],new_trans))\n",
        "\n",
        "  G.add_nodes_from(nodes)\n",
        "  G.add_weighted_edges_from([(u, v, 0) for u, v, w in edges])\n",
        "\n",
        "\n",
        "  pos = nx.spring_layout(G)\n",
        "\n",
        "  node_colors = []\n",
        "  for node in G.nodes():\n",
        "    if node == starting_node:\n",
        "      node_colors.append('red')\n",
        "    elif node in accepting_nodes:\n",
        "      node_colors.append('blue')\n",
        "    else:\n",
        "      node_colors.append('gray')\n",
        "\n",
        "  nx.draw(G, pos, with_labels=True, node_color=node_colors, node_size=600, font_weight='bold',font_color='white')\n",
        "\n",
        "  edge_labels = {(u, v): w for u, v, w in edges}\n",
        "  nx.draw_networkx_edge_labels(G, pos, edge_labels=edge_labels, font_color='green')\n",
        "\n",
        "  plt.title(\"DFA Visualization\\nRed colour means starting state, and blue means accepting state.\")\n",
        "  plt.show()"
      ],
      "metadata": {
        "id": "rfB3DAgv8lkB"
      },
      "execution_count": null,
      "outputs": []
    },
    {
      "cell_type": "code",
      "source": [
        "def createDFA(dfa,dfa_dict,all_states,srt_state,accept_state,alphabets):\n",
        "\n",
        "  for i in all_states:\n",
        "    if i not in dfa_dict:\n",
        "      dfa_dict[i] = []\n",
        "      dfa[i] = []\n",
        "\n",
        "  flag = True\n",
        "  recycle = []\n",
        "  print()\n",
        "  print(\"***** Now you have to enter all state information for making DFA.\")\n",
        "  print()\n",
        "  print(\"***** If you want to stop your input process, just enter 'F'\")\n",
        "  print()\n",
        "\n",
        "  while flag:\n",
        "    from_to_with = input(\"Enter one state to the next state with the transition value (e.g., A B 0): \").split()\n",
        "    if from_to_with[0] == \"F\":\n",
        "      flag = False\n",
        "\n",
        "    else:\n",
        "      FROM = from_to_with[0]\n",
        "      TO = from_to_with[1]\n",
        "      WITH = from_to_with[2]\n",
        "\n",
        "      dfa[FROM].append((TO,WITH))\n",
        "\n",
        "      if [FROM,TO] not in recycle:\n",
        "        recycle.append([FROM,TO])\n",
        "        dfa_dict[FROM].append((TO,WITH))\n",
        "\n",
        "      else:\n",
        "        for i in range(len(dfa_dict[FROM])):\n",
        "          if dfa_dict[FROM][i][0] == TO:\n",
        "            prev_transition = dfa_dict[FROM][i][1]\n",
        "            dfa_dict[FROM][i] = (TO,prev_transition+\",\"+WITH)\n",
        "\n",
        "  return dfa_dict,dfa"
      ],
      "metadata": {
        "id": "KcSe2IHXGJAk"
      },
      "execution_count": null,
      "outputs": []
    },
    {
      "cell_type": "code",
      "source": [
        "#You have to run this cell.\n",
        "user = input(\"Do you want to start the process? (Y or N): \")\n",
        "\n",
        "if user == \"Y\":\n",
        "  #inputs\n",
        "  all_states = input(\"Enter all DFA states separated by space (e.g., A B C): \").split(\" \")\n",
        "  srt_state = input(\"Enter the start state of the DFA: \")\n",
        "  accept_state = input(\"Enter all accepting states separated by space (e.g., B, C): \").split(\" \")\n",
        "  alphabets = input(\"Enter all alphabets separated by space (e.g., 0 1): \").split(\" \")\n",
        "\n",
        "  #function for creating DFA\n",
        "  dfa_dict = {}\n",
        "  dfa = {} #create this only for testing different cases\n",
        "  result = createDFA(dfa,dfa_dict,all_states,srt_state,accept_state,alphabets)\n",
        "  dfa_dict = result[0]\n",
        "  dfa = result[1]\n",
        "\n",
        "\n",
        "  print()\n",
        "  visualize(dfa_dict)\n",
        "  print()\n",
        "  satisfy = input(\"Do you satisfy with this DFA? (Y or N): \")\n",
        "  if satisfy == \"Y\":\n",
        "    print()\n",
        "    print(\"****** Now your DFA is ready for testing.\")\n",
        "  else:\n",
        "    print()\n",
        "    print(\"****** Again, run this cell.\")\n",
        "\n",
        "else:\n",
        "  print(\"OK\")"
      ],
      "metadata": {
        "colab": {
          "base_uri": "https://localhost:8080/",
          "height": 934
        },
        "id": "Z5aNXXfN0pIr",
        "outputId": "e34ed2a0-6ab5-43f7-e9fe-f9d2f8bebafa"
      },
      "execution_count": null,
      "outputs": [
        {
          "output_type": "stream",
          "name": "stdout",
          "text": [
            "Do you want to start the process? (Y or N): Y\n",
            "Enter all DFA states separated by space (e.g., A B C): q0 q1 q2\n",
            "Enter the start state of the DFA: q0\n",
            "Enter all accepting states separated by space (e.g., B, C): q2\n",
            "Enter all alphabets separated by space (e.g., 0 1): 0 1\n",
            "\n",
            "***** Now you have to enter all state information for making DFA.\n",
            "\n",
            "***** If you want to stop your input process, just enter 'F'\n",
            "\n",
            "Enter one state to the next state with the transition value (e.g., A B 0): q0 q1 0\n",
            "Enter one state to the next state with the transition value (e.g., A B 0): q0 q1 1\n",
            "Enter one state to the next state with the transition value (e.g., A B 0): q1 q2 0\n",
            "Enter one state to the next state with the transition value (e.g., A B 0): q1 q2 1\n",
            "Enter one state to the next state with the transition value (e.g., A B 0): q2 q2 0\n",
            "Enter one state to the next state with the transition value (e.g., A B 0): q2 q2 1\n",
            "Enter one state to the next state with the transition value (e.g., A B 0): F\n",
            "\n"
          ]
        },
        {
          "output_type": "display_data",
          "data": {
            "text/plain": [
              "<Figure size 640x480 with 1 Axes>"
            ],
            "image/png": "[encoded data removed]"
          },
          "metadata": {}
        },
        {
          "output_type": "stream",
          "name": "stdout",
          "text": [
            "\n",
            "Do you satisfy with this DFA? (Y or N): Y\n",
            "\n",
            "****** Now your DFA is ready for testing.\n"
          ]
        }
      ]
    },
    {
      "cell_type": "code",
      "source": [
        "def check_test_case(srt_state,accept_state,dfa,test_case):\n",
        "\n",
        "  info = dfa[srt_state]\n",
        "  current_state = srt_state\n",
        "\n",
        "  for i in test_case:\n",
        "    for j in info:\n",
        "      if j[1] == i:\n",
        "        info = dfa[j[0]]\n",
        "        current_state = j[0]\n",
        "\n",
        "  if current_state in accept_state:\n",
        "    return \"Accepted\"\n",
        "  else:\n",
        "    return \"Not Accepted\""
      ],
      "metadata": {
        "id": "RrRT0hru64P4"
      },
      "execution_count": null,
      "outputs": []
    },
    {
      "cell_type": "code",
      "source": [
        "test_case = input(\"Enter your test case value: \")\n",
        "result = check_test_case(srt_state,accept_state,dfa,test_case)\n",
        "\n",
        "print(result)"
      ],
      "metadata": {
        "colab": {
          "base_uri": "https://localhost:8080/"
        },
        "id": "ygraNYp98MXu",
        "outputId": "6c18f439-3d70-44f1-adec-4fa13ae83458"
      },
      "execution_count": null,
      "outputs": [
        {
          "output_type": "stream",
          "name": "stdout",
          "text": [
            "Enter your test case value: 111\n",
            "Accepted\n"
          ]
        }
      ]
    }
  ]
}