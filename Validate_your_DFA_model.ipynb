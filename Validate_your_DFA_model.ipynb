{
  "nbformat": 4,
  "nbformat_minor": 0,
  "metadata": {
    "colab": {
      "provenance": [],
      "authorship_tag": "ABX9TyMCPeiekiSUfRmEgAAF3oVm",
      "include_colab_link": true
    },
    "kernelspec": {
      "name": "python3",
      "display_name": "Python 3"
    },
    "language_info": {
      "name": "python"
    }
  },
  "cells": [
    {
      "cell_type": "markdown",
      "metadata": {
        "id": "view-in-github",
        "colab_type": "text"
      },
      "source": [
        "<a href=\"https://colab.research.google.com/github/turtle-shifa/Automata-and-Computability/blob/main/Validate_your_DFA_model.ipynb\" target=\"_parent\"><img src=\"https://colab.research.google.com/assets/colab-badge.svg\" alt=\"Open In Colab\"/></a>"
      ]
    },
    {
      "cell_type": "code",
      "source": [
        "def createDFA(dfa_dict,all_states,srt_state,accept_state,alphabets):\n",
        "\n",
        "  for i in all_states:\n",
        "    if i not in dfa_dict:\n",
        "      dfa_dict[i] = []\n",
        "\n",
        "  flag = True\n",
        "  print()\n",
        "  print(\"***** Now you have to enter all state information for making DFA.\")\n",
        "  print()\n",
        "  print(\"***** If you want to stop your input process, just enter 'F'\")\n",
        "  print()\n",
        "\n",
        "  while flag:\n",
        "    from_to_with = input(\"Enter one state to the next state with the transition value (e.g., A B 0): \").split()\n",
        "    if from_to_with[0] == \"F\":\n",
        "      flag = False\n",
        "    else:\n",
        "      dfa_dict[from_to_with[0]].append((from_to_with[1],from_to_with[2]))\n",
        "\n",
        "  #dfa_dict example: {'A': [('A', '0'), ('B', '1')], 'B': [('A', '1'), ('B', '0')]}\n",
        "  for state,info in dfa_dict.items():\n",
        "    #state: A; info:[('A', '0'), ('B', '1')]\n",
        "\n",
        "    if dfa_dict[state] != []:\n",
        "\n",
        "      for i in info:\n",
        "        #i = ('A', '0')\n",
        "        if state in accept_state and state == srt_state:\n",
        "          print(f\"             {i[1]}        \")\n",
        "          print(f\"-> * {state}     ----->     {i[0]}\")\n",
        "\n",
        "        elif state == srt_state:\n",
        "          print(f\"             {i[1]}        \")\n",
        "          print(f\"->   {state}     ----->     {i[0]}\")\n",
        "\n",
        "        elif state in accept_state:\n",
        "          print(f\"             {i[1]}        \")\n",
        "          print(f\"*    {state}     ----->     {i[0]}\")\n",
        "\n",
        "        else:\n",
        "          print(f\"             {i[1]}        \")\n",
        "          print(f\"     {state}     ----->     {i[0]}\")\n",
        "\n",
        "    else:\n",
        "\n",
        "      if state in accept_state and state == srt_state:\n",
        "        print(f\"               -        \")\n",
        "        print(f\"-> * {state}     ----->     -\")\n",
        "\n",
        "      elif state == srt_state:\n",
        "        print(f\"               -        \")\n",
        "        print(f\"->   {state}     ----->     -\")\n",
        "\n",
        "      elif state in accept_state:\n",
        "        print(f\"             -        \")\n",
        "        print(f\"*    {state}     ----->     -\")\n",
        "\n",
        "      else:\n",
        "        print(f\"             -        \")\n",
        "        print(f\"     {state}     ----->     -\")\n",
        "\n",
        "  return dfa_dict\n"
      ],
      "metadata": {
        "id": "t5aMLJLB2Fjf"
      },
      "execution_count": null,
      "outputs": []
    },
    {
      "cell_type": "code",
      "source": [
        "def check_test_case(srt_state,accept_state,dfa_dict,test_case):\n",
        "\n",
        "  info = dfa_dict[srt_state]\n",
        "  current_state = srt_state\n",
        "\n",
        "  for i in test_case:\n",
        "    for j in info:\n",
        "      if j[1] == i:\n",
        "        info = dfa_dict[j[0]]\n",
        "        current_state = j[0]\n",
        "\n",
        "  if current_state in accept_state:\n",
        "    return \"Accepted\"\n",
        "  else:\n",
        "    return \"Not Accepted\""
      ],
      "metadata": {
        "id": "RrRT0hru64P4"
      },
      "execution_count": null,
      "outputs": []
    },
    {
      "cell_type": "code",
      "source": [
        "#You have to run this cell.\n",
        "user = input(\"Do you want to start the process? (Y or N): \")\n",
        "\n",
        "if user == \"Y\":\n",
        "  #inputs\n",
        "  all_states = input(\"Enter all DFA states separated by space (e.g., A B C): \").split(\" \")\n",
        "  srt_state = input(\"Enter the start state of the DFA: \")\n",
        "  accept_state = input(\"Enter all accepting states separated by space (e.g., B, C): \").split(\" \")\n",
        "  alphabets = input(\"Enter all alphabets separated by space (e.g., 0 1): \").split(\" \")\n",
        "\n",
        "  #function for creating DFA\n",
        "  dfa_dict = {}\n",
        "  dfa_dict = createDFA(dfa_dict,all_states,srt_state,accept_state,alphabets)\n",
        "\n",
        "  print()\n",
        "  print(\"Here -> means starting state and * means accepting state.\")\n",
        "  print()\n",
        "  satisfy = input(\"Do you satisfy with this DFA? (Y or N): \")\n",
        "  if satisfy == \"Y\":\n",
        "    print()\n",
        "    print(\"****** Now your DFA is ready for testing.\")\n",
        "  else:\n",
        "    print()\n",
        "    print(\"****** Again, run this cell.\")\n",
        "\n",
        "else:\n",
        "  print(\"OK\")"
      ],
      "metadata": {
        "colab": {
          "base_uri": "https://localhost:8080/"
        },
        "id": "Z5aNXXfN0pIr",
        "outputId": "e72075b6-b5c3-44bc-bfd7-2f1429082a20"
      },
      "execution_count": null,
      "outputs": [
        {
          "output_type": "stream",
          "name": "stdout",
          "text": [
            "Do you want to start the process? (Y or N): Y\n",
            "Enter all DFA states separated by space (e.g., A B C): q0 q1 q2\n",
            "Enter the start state of the DFA: q0\n",
            "Enter all accepting states separated by space (e.g., B, C): q1\n",
            "Enter all alphabets separated by space (e.g., 0 1): 0 1\n",
            "\n",
            "***** Now you have to enter all state information for making DFA.\n",
            "\n",
            "***** If you want to stop your input process, just enter 'F'\n",
            "\n",
            "Enter one state to the next state with the transition value (e.g., A B 0): q0 q1 1\n",
            "Enter one state to the next state with the transition value (e.g., A B 0): q0 q2 0\n",
            "Enter one state to the next state with the transition value (e.g., A B 0): q2 q2 0\n",
            "Enter one state to the next state with the transition value (e.g., A B 0): q2 q2 1\n",
            "Enter one state to the next state with the transition value (e.g., A B 0): q1 q1 0\n",
            "Enter one state to the next state with the transition value (e.g., A B 0): q1 q1 1\n",
            "Enter one state to the next state with the transition value (e.g., A B 0): F\n",
            "             1        \n",
            "->   q0     ----->     q1\n",
            "             0        \n",
            "->   q0     ----->     q2\n",
            "             0        \n",
            "*    q1     ----->     q1\n",
            "             1        \n",
            "*    q1     ----->     q1\n",
            "             0        \n",
            "     q2     ----->     q2\n",
            "             1        \n",
            "     q2     ----->     q2\n",
            "\n",
            "Here -> means starting state and * means accepting state.\n",
            "\n",
            "Do you satisfy with this DFA? (Y or N): Y\n",
            "\n",
            "****** Now your DFA is ready for testing.\n"
          ]
        }
      ]
    },
    {
      "cell_type": "code",
      "source": [
        "test_case = input(\"Enter your test case value: \")\n",
        "result = check_test_case(srt_state,accept_state,dfa_dict,test_case)\n",
        "\n",
        "print(result)"
      ],
      "metadata": {
        "colab": {
          "base_uri": "https://localhost:8080/"
        },
        "id": "ygraNYp98MXu",
        "outputId": "6c3b6d05-551c-4269-815b-24a32f8d82c9"
      },
      "execution_count": null,
      "outputs": [
        {
          "output_type": "stream",
          "name": "stdout",
          "text": [
            "Enter your test case value: 1111111110\n",
            "Accepted\n"
          ]
        }
      ]
    }
  ]
}