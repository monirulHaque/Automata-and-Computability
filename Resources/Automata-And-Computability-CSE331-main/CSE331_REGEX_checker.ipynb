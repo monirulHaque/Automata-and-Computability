{
  "nbformat": 4,
  "nbformat_minor": 0,
  "metadata": {
    "colab": {
      "provenance": []
    },
    "kernelspec": {
      "name": "python3",
      "display_name": "Python 3"
    },
    "language_info": {
      "name": "python"
    }
  },
  "cells": [
    {
      "cell_type": "markdown",
      "source": [
        "# CSE331 REGEX checker\n"
      ],
      "metadata": {
        "id": "lg3R2eZiEWYT"
      }
    },
    {
      "cell_type": "markdown",
      "source": [
        "\n",
        "\n",
        "```\n",
        "# Input the pattern and the string you want to check. This can help solve regular expression problems automatically.\n",
        "Example:\n",
        "pattern: ((00)*1(00)*1(00)*)*\n",
        "string: 11\n",
        "Match found\n",
        "This means that my regular expression will solve for The\n",
        "language containing strings in which the number of 0s between every pair of consecutive 1s is even\n",
        "\n",
        "Another one which is more aligned to our course\n",
        "pattern: (0*10*10*10*10*)*\n",
        "string: 0010000100110000\n",
        "match found\n",
        "here the Code indicates that my RE is identifying string with number of 0s divisible by 4.\n",
        "\n",
        "Now suffer with your CSE331 !\n",
        "```\n",
        "\n"
      ],
      "metadata": {
        "id": "VMUe1FsyCfbx"
      }
    },
    {
      "cell_type": "code",
      "source": [
        "# Use it for Regex copying\n",
        "'''\n",
        "Some cases\n",
        "1. {w : 10 appears in w exactly once}\n",
        "regular expression: 1*(10)0*\n",
        "\n",
        "2. {w : w does not contain 10}\n",
        "RegEx: ((01)*|1*|0*)\n",
        "\n",
        "3.\n",
        "'''"
      ],
      "metadata": {
        "id": "w75uglBLWd0N"
      },
      "execution_count": null,
      "outputs": []
    },
    {
      "cell_type": "code",
      "execution_count": null,
      "metadata": {
        "colab": {
          "base_uri": "https://localhost:8080/"
        },
        "cellView": "form",
        "id": "Pxx_ZgVuAy17",
        "outputId": "68ddc5cd-5971-4981-8e3b-aa852bec335c"
      },
      "outputs": [
        {
          "output_type": "stream",
          "name": "stdout",
          "text": [
            "Enter your regular expression: (b|c|d|f)(b|c|d|f)(a|e)\n",
            "Enter the string to search: dfa\n",
            "Accepted dfa\n"
          ]
        }
      ],
      "source": [
        "#@title Regex Checker\n",
        "import re\n",
        "\n",
        "def check_regex(pattern, string):\n",
        "    result = re.fullmatch(pattern, string)\n",
        "    if result is not None:\n",
        "        return \"Accepted \" + result.group()\n",
        "    else:\n",
        "        return \"Denied\"\n",
        "\n",
        "# Test the function\n",
        "pattern = input(\"Enter your regular expression: \")\n",
        "string = input(\"Enter the string to search: \")\n",
        "\n",
        "print(check_regex(pattern, string))\n"
      ]
    },
    {
      "cell_type": "code",
      "source": [
        "#@title Regex Checker looped\n",
        "print(\"Type 'exit' to EXIT\")\n",
        "import re\n",
        "string = ''\n",
        "def check_regex(pattern, string):\n",
        "    result = re.fullmatch(pattern, string)\n",
        "    if result is not None:\n",
        "        return \"Accepted \" + result.group()\n",
        "    else:\n",
        "        return \"Denied\"\n",
        "\n",
        "# Test the function\n",
        "\n",
        "pattern = input(\"Enter your regular expression: \")\n",
        "print(\"Now keep entering example strings to check your regular expression\")\n",
        "\n",
        "while string!='exit':\n",
        "  string = input(\"Enter the string to search: \")\n",
        "  print(check_regex(pattern, string))\n",
        "print(\"Tata !\")\n",
        "string = ''"
      ],
      "metadata": {
        "cellView": "form",
        "id": "8J8vna8VSPwE"
      },
      "execution_count": null,
      "outputs": []
    }
  ]
}